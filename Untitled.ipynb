{
 "cells": [
  {
   "cell_type": "code",
   "execution_count": null,
   "id": "0b81d5ae-c5b4-45d7-9694-9afe9c8481e3",
   "metadata": {},
   "outputs": [],
   "source": [
    "geoapify_key = \"32c903d76c554fefbd0e8a555611c817\""
   ]
  }
 ],
 "metadata": {
  "kernelspec": {
   "display_name": "Python 3 (ipykernel)",
   "language": "python",
   "name": "python3"
  },
  "language_info": {
   "codemirror_mode": {
    "name": "ipython",
    "version": 3
   },
   "file_extension": ".py",
   "mimetype": "text/x-python",
   "name": "python",
   "nbconvert_exporter": "python",
   "pygments_lexer": "ipython3",
   "version": "3.10.14"
  }
 },
 "nbformat": 4,
 "nbformat_minor": 5
}
