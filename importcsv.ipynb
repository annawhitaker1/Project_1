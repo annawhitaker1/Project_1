{
 "cells": [
  {
   "cell_type": "code",
   "execution_count": 11,
   "id": "ae13e2c1-2136-4c6b-9f11-257a01f96fdd",
   "metadata": {},
   "outputs": [
    {
     "name": "stdout",
     "output_type": "stream",
     "text": [
      "            active_vehicles   trips\n",
      "date                               \n",
      "2015-01-01             6885   56437\n",
      "2015-01-02             6330   39189\n",
      "2015-01-03             6510   58449\n",
      "2015-01-04             5838   40798\n",
      "2015-01-05             6884   42752\n",
      "2015-01-06             7216   52426\n",
      "2015-01-07             7444   62102\n",
      "2015-01-08             7999   71413\n",
      "2015-01-09             7989   70296\n",
      "2015-01-10             7346   78484\n",
      "2015-01-11             6571   57026\n",
      "2015-01-12             7364   57646\n",
      "2015-01-13             7559   63499\n",
      "2015-01-14             7849   63329\n",
      "2015-01-15             8080   66729\n",
      "2015-01-16             8273   72480\n",
      "2015-01-17             7527   73363\n",
      "2015-01-18             6863   72473\n",
      "2015-01-19             5945   45755\n",
      "2015-01-20             7592   54772\n",
      "2015-01-21             7948   59147\n",
      "2015-01-22             8267   65602\n",
      "2015-01-23             8490   71819\n",
      "2015-01-24             7643   80709\n",
      "2015-01-25             6787   57895\n",
      "2015-01-26             6533   43395\n",
      "2015-01-27             3496   25244\n",
      "2015-01-28             7815   60446\n",
      "2015-01-29             8376   68994\n",
      "2015-01-30             8693   83723\n",
      "2015-01-31             8223   92257\n",
      "2015-02-01             7752   76910\n",
      "2015-02-02             7080   68980\n",
      "2015-02-03             7840   70188\n",
      "2015-02-04             8185   66835\n",
      "2015-02-05             8833   80913\n",
      "2015-02-06             8937   85940\n",
      "2015-02-07             8119   81157\n",
      "2015-02-08             7226   63000\n",
      "2015-02-09             7688   61956\n",
      "2015-02-10             8029   64766\n",
      "2015-02-11             8515   72470\n",
      "2015-02-12             9123   83234\n",
      "2015-02-13             9604   98024\n",
      "2015-02-14             8973  100345\n",
      "2015-02-15             7939   89401\n",
      "2015-02-16             7551   72098\n",
      "2015-02-17             8403   73051\n",
      "2015-02-18             8442   72243\n",
      "2015-02-19             9030   88757\n",
      "2015-02-20             9649  100915\n",
      "2015-02-21             8765   98380\n",
      "2015-02-22             7620   66440\n",
      "2015-02-23             8197   71217\n",
      "2015-02-24             8773   79115\n",
      "2015-02-25             8830   74691\n",
      "2015-02-26             9227   83568\n",
      "2015-02-27             9486   88806\n",
      "2015-02-28             8681   88181\n"
     ]
    }
   ],
   "source": [
    "import pandas as pd\n",
    "\n",
    "# Read the CSV file into a pandas DataFrame\n",
    "file_name = 'Uber-Jan-Feb-FOIL.csv'\n",
    "df = pd.read_csv(file_name)\n",
    "\n",
    "# Convert 'date' column to datetime format to handle dates properly\n",
    "df['date'] = pd.to_datetime(df['date'])\n",
    "\n",
    "# Group by 'date' and sum the 'active_vehicles' and 'trips'\n",
    "summary_df = df.groupby('date')[['active_vehicles', 'trips']].sum()\n",
    "\n",
    "# Sort the summary DataFrame by 'date' to ensure chronological order\n",
    "summary_df = summary_df.sort_index()\n",
    "\n",
    "# Display the summary DataFrame\n",
    "print(summary_df)\n"
   ]
  },
  {
   "cell_type": "code",
   "execution_count": null,
   "id": "919fd181-ca3a-48a9-93f6-fa9a306bb229",
   "metadata": {},
   "outputs": [],
   "source": []
  }
 ],
 "metadata": {
  "kernelspec": {
   "display_name": "Python 3 (ipykernel)",
   "language": "python",
   "name": "python3"
  },
  "language_info": {
   "codemirror_mode": {
    "name": "ipython",
    "version": 3
   },
   "file_extension": ".py",
   "mimetype": "text/x-python",
   "name": "python",
   "nbconvert_exporter": "python",
   "pygments_lexer": "ipython3",
   "version": "3.10.14"
  }
 },
 "nbformat": 4,
 "nbformat_minor": 5
}
